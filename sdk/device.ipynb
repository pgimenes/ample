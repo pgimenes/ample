{
 "cells": [
  {
   "cell_type": "code",
   "execution_count": 13,
   "metadata": {},
   "outputs": [
    {
     "name": "stdout",
     "output_type": "stream",
     "text": [
      "1\n"
     ]
    }
   ],
   "source": [
    "import torch\n",
    "import torch.nn as nn\n",
    "import InitManager\n",
    "from sdk.initialization_manager import InitManager\n",
    "\n",
    "class Ample:\n",
    "    def __init__(self):\n",
    "        self.device_name = 'ample'\n",
    "        self.init_manager = InitManager(graph, model, base_path=base_path) #Change so model and grpah can be added not init\n",
    "        self.model = None\n",
    "        self.graph = None\n",
    "\n",
    "    def allocate_memory(self, size):\n",
    "        #Need graph and model\n",
    "        init_manager.map_memory() #Has to be done first\n",
    "        init_manager.dump_memory()\n",
    "        init_manager.dump_nodeslot_programming()\n",
    "        init_manager.dump_layer_config()\n",
    "        Implement memory allocation for your hardware\n",
    "        pass\n",
    "\n",
    "\n",
    "\n",
    "    def deallocate_memory(self, memory):\n",
    "        # Implement memory deallocation\n",
    "        pass\n",
    "\n",
    "    # def move_tensor(self, tensor):\n",
    "    #     # Implement tensor transfer to the custom device\n",
    "    #     pass\n",
    "\n",
    "    def to_ample(self, obj):\n",
    "        if isinstance(obj, nn.Module):\n",
    "            self.model = obj \n",
    "         \n",
    "            # Replace the model's forward method with the custom forward method\n",
    "            obj.forward = self.ample_forward.__get__(obj, nn.Module)\n",
    "            return obj\n",
    "        elif isinstance(obj, torch.Tensor): #pyg graph\n",
    "            # Move tensor to the custom device\n",
    "            self.graph = obj\n",
    "            self.allocate_memory(graph)\n",
    "            return CustomTensor(obj)\n",
    "        else:\n",
    "            raise TypeError(f\"Unsupported type {type(obj)} for custom device transfer.\")\n",
    "\n",
    "\n",
    "\n",
    "    def ample_forward(self, model):\n",
    "        #Code to start on PCIE - send instrucitons to start and what nodeslot group to use\n",
    "        #Wait for complete\n",
    "        #Return pointer to results in mem? Or the results\n",
    "        \n",
    "        return 1\n",
    "\n",
    "# Example model definition\n",
    "class MyModel(nn.Module):\n",
    "    def __init__(self):\n",
    "        super(MyModel, self).__init__()\n",
    "        self.layer1 = nn.Linear(10, 10)\n",
    "        self.layer2 = nn.Linear(10, 1)\n",
    "\n",
    "    def forward(self, x):\n",
    "        x = self.layer1(x)\n",
    "        x = self.layer2(x)\n",
    "        return x\n",
    "\n",
    "\n",
    "\n",
    "# Initialize the custom device\n",
    "custom_device = Ample()\n",
    "\n",
    "# Initialize your model\n",
    "model = MyModel()\n",
    "graph = KarateClub()\n",
    "\n",
    "graph.to_ample()\n",
    "model.to_ample()\n",
    "\n",
    "\n",
    "output = model(input_tensor)\n",
    "\n",
    "print(output)\n"
   ]
  },
  {
   "cell_type": "code",
   "execution_count": 8,
   "metadata": {},
   "outputs": [
    {
     "name": "stdout",
     "output_type": "stream",
     "text": [
      "tensor([[-0.5696]], grad_fn=<AddmmBackward0>)\n"
     ]
    }
   ],
   "source": []
  }
 ],
 "metadata": {
  "kernelspec": {
   "display_name": "base",
   "language": "python",
   "name": "python3"
  },
  "language_info": {
   "codemirror_mode": {
    "name": "ipython",
    "version": 3
   },
   "file_extension": ".py",
   "mimetype": "text/x-python",
   "name": "python",
   "nbconvert_exporter": "python",
   "pygments_lexer": "ipython3",
   "version": "3.11.9"
  }
 },
 "nbformat": 4,
 "nbformat_minor": 2
}
